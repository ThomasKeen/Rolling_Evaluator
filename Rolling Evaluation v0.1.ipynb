{
 "cells": [
  {
   "cell_type": "markdown",
   "metadata": {},
   "source": [
    "# Rolling Evaluation"
   ]
  },
  {
   "cell_type": "markdown",
   "metadata": {},
   "source": [
    "> This notebook aims to put some concrete form to the ideas we discussed at last Monday's HyMind session (cf. this [ticket](https://app.zenhub.com/workspaces/hylevel-5fd9c347f6ff6d001d15c6a4/issues/hylode/hymind/1)). \n",
    ">\n",
    "> This may be well wide of what you had in mind, but that would be no bad thing -- as long as it's bringing us onto the same page, I'm very happy for this to serve as a straw man.\n",
    "> \n",
    "> What follows uses extremely simplified modelling assumptions and no real data, but what that 'travelling light' mindset buys is simplicity and speed in taking the idea from end to end. \n",
    ">\n",
    "> I'm hoping that layering on the complexity and subbing in the real data won't be too fiendishly tricky. And that having something short and simple will make it easier to discuss as a group.\n",
    ">\n",
    "> Here I consider a very simple case. Trying to run HyML and HyDemand models on an 8 patient ICU. "
   ]
  },
  {
   "cell_type": "code",
   "execution_count": 4,
   "metadata": {},
   "outputs": [],
   "source": [
    "# start by importing some standard libraries\n",
    "import random\n",
    "import pandas as pd\n",
    "import numpy as np\n",
    "import sympy as sym\n",
    "from sklearn.metrics import brier_score_loss, log_loss\n",
    "import matplotlib.pyplot as plt\n",
    "import seaborn as sns\n",
    "%matplotlib inline\n",
    "\n",
    "# and also some odds and ends from a utils module, tk_utils2\n",
    "from tk_utils2 import pred_at_t_,one_hot,build_expression,pred_on_admission,s,r,syms"
   ]
  },
  {
   "cell_type": "markdown",
   "metadata": {},
   "source": [
    "## HyML Prediction & Evaluation"
   ]
  },
  {
   "cell_type": "markdown",
   "metadata": {},
   "source": [
    "As first steps, let's:\n",
    "\n",
    "1. define a trivially simple patient-level LoS prediction (*made on admission)\n",
    "\n",
    "2. evaluate those predictions against patients discharged over the past week\n",
    "\n",
    "3. implement a simple function that predicts an individual's remaining LoS at t (*which may be a while after admission) \n"
   ]
  },
  {
   "cell_type": "markdown",
   "metadata": {},
   "source": [
    "#### An ultra simple predictor"
   ]
  },
  {
   "cell_type": "markdown",
   "metadata": {},
   "source": [
    "Let's start with a trivially simple prediction for LoS at time of admission - a 50% chance of discharge within each of 2-3 days and 3-4 days:"
   ]
  },
  {
   "cell_type": "code",
   "execution_count": 5,
   "metadata": {},
   "outputs": [
    {
     "data": {
      "text/plain": [
       "[0, 0, 0.5, 0.5, 0, 0]"
      ]
     },
     "execution_count": 5,
     "metadata": {},
     "output_type": "execute_result"
    }
   ],
   "source": [
    "pred_on_admission"
   ]
  },
  {
   "cell_type": "code",
   "execution_count": 6,
   "metadata": {},
   "outputs": [
    {
     "data": {
      "image/png": "[encoded data removed]",
      "text/plain": [
       "<Figure size 432x288 with 1 Axes>"
      ]
     },
     "metadata": {
      "needs_background": "light"
     },
     "output_type": "display_data"
    }
   ],
   "source": [
    "time_windows = ['0-1 days','1-2 days','2-3 days','3-4 days','4-5 days','5+ days']\n",
    "pred = pd.DataFrame(pred_on_admission, index=time_windows)\n",
    "# pred.T\n",
    "b = sns.barplot(data = pred.reset_index(),x='index',y=0, color=\"skyblue\")\n",
    "b.set(xlabel='Length of Stay', ylabel='Probability');"
   ]
  },
  {
   "cell_type": "markdown",
   "metadata": {},
   "source": [
    "#### Evaluating HyML (patient-level prediction)"
   ]
  },
  {
   "cell_type": "markdown",
   "metadata": {},
   "source": [
    "From here, we can imagine running a very simple script to evaluate this predictive model across patient discharged in the last week:"
   ]
  },
  {
   "cell_type": "code",
   "execution_count": 7,
   "metadata": {},
   "outputs": [],
   "source": [
    "# take 11 as an arbitrary number of discharges over the last week\n",
    "discharges = 11"
   ]
  },
  {
   "cell_type": "code",
   "execution_count": 8,
   "metadata": {},
   "outputs": [
    {
     "data": {
      "text/html": [
       "<div>\n",
       "<style scoped>\n",
       "    .dataframe tbody tr th:only-of-type {\n",
       "        vertical-align: middle;\n",
       "    }\n",
       "\n",
       "    .dataframe tbody tr th {\n",
       "        vertical-align: top;\n",
       "    }\n",
       "\n",
       "    .dataframe thead th {\n",
       "        text-align: right;\n",
       "    }\n",
       "</style>\n",
       "<table border=\"1\" class=\"dataframe\">\n",
       "  <thead>\n",
       "    <tr style=\"text-align: right;\">\n",
       "      <th></th>\n",
       "      <th>mrn</th>\n",
       "      <th>los</th>\n",
       "    </tr>\n",
       "  </thead>\n",
       "  <tbody>\n",
       "    <tr>\n",
       "      <th>0</th>\n",
       "      <td>182</td>\n",
       "      <td>3</td>\n",
       "    </tr>\n",
       "    <tr>\n",
       "      <th>1</th>\n",
       "      <td>177</td>\n",
       "      <td>1</td>\n",
       "    </tr>\n",
       "    <tr>\n",
       "      <th>2</th>\n",
       "      <td>169</td>\n",
       "      <td>1</td>\n",
       "    </tr>\n",
       "    <tr>\n",
       "      <th>3</th>\n",
       "      <td>100</td>\n",
       "      <td>1</td>\n",
       "    </tr>\n",
       "    <tr>\n",
       "      <th>4</th>\n",
       "      <td>101</td>\n",
       "      <td>2</td>\n",
       "    </tr>\n",
       "    <tr>\n",
       "      <th>5</th>\n",
       "      <td>184</td>\n",
       "      <td>4</td>\n",
       "    </tr>\n",
       "    <tr>\n",
       "      <th>6</th>\n",
       "      <td>156</td>\n",
       "      <td>2</td>\n",
       "    </tr>\n",
       "    <tr>\n",
       "      <th>7</th>\n",
       "      <td>170</td>\n",
       "      <td>1</td>\n",
       "    </tr>\n",
       "    <tr>\n",
       "      <th>8</th>\n",
       "      <td>133</td>\n",
       "      <td>2</td>\n",
       "    </tr>\n",
       "    <tr>\n",
       "      <th>9</th>\n",
       "      <td>145</td>\n",
       "      <td>3</td>\n",
       "    </tr>\n",
       "    <tr>\n",
       "      <th>10</th>\n",
       "      <td>124</td>\n",
       "      <td>3</td>\n",
       "    </tr>\n",
       "  </tbody>\n",
       "</table>\n",
       "</div>"
      ],
      "text/plain": [
       "    mrn  los\n",
       "0   182    3\n",
       "1   177    1\n",
       "2   169    1\n",
       "3   100    1\n",
       "4   101    2\n",
       "5   184    4\n",
       "6   156    2\n",
       "7   170    1\n",
       "8   133    2\n",
       "9   145    3\n",
       "10  124    3"
      ]
     },
     "execution_count": 8,
     "metadata": {},
     "output_type": "execute_result"
    }
   ],
   "source": [
    "# create something that looks like a list of discharged mrns and their respective lengths of stay \n",
    "# we restrict ourselves to whole day lengths-of-stay for simplicity\n",
    "ICU_discharges_this_week = pd.DataFrame(columns=['mrn','los'])\n",
    "ICU_discharges_this_week['mrn'] = pd.Series(random.sample(range(100,200), discharges))\n",
    "ICU_discharges_this_week['los'] = np.random.randint(1,5,size=(discharges))\n",
    "ICU_discharges_this_week"
   ]
  },
  {
   "cell_type": "code",
   "execution_count": 9,
   "metadata": {},
   "outputs": [
    {
     "data": {
      "text/html": [
       "<div>\n",
       "<style scoped>\n",
       "    .dataframe tbody tr th:only-of-type {\n",
       "        vertical-align: middle;\n",
       "    }\n",
       "\n",
       "    .dataframe tbody tr th {\n",
       "        vertical-align: top;\n",
       "    }\n",
       "\n",
       "    .dataframe thead th {\n",
       "        text-align: right;\n",
       "    }\n",
       "</style>\n",
       "<table border=\"1\" class=\"dataframe\">\n",
       "  <thead>\n",
       "    <tr style=\"text-align: right;\">\n",
       "      <th></th>\n",
       "      <th>mrn</th>\n",
       "      <th>los</th>\n",
       "      <th>los_hot</th>\n",
       "      <th>predicted_los</th>\n",
       "      <th>log_loss</th>\n",
       "    </tr>\n",
       "  </thead>\n",
       "  <tbody>\n",
       "    <tr>\n",
       "      <th>0</th>\n",
       "      <td>182</td>\n",
       "      <td>3</td>\n",
       "      <td>[0, 0, 0, 1, 0, 0]</td>\n",
       "      <td>[0, 0, 0.5, 0.5, 0, 0]</td>\n",
       "      <td>0.231049</td>\n",
       "    </tr>\n",
       "    <tr>\n",
       "      <th>1</th>\n",
       "      <td>177</td>\n",
       "      <td>1</td>\n",
       "      <td>[0, 1, 0, 0, 0, 0]</td>\n",
       "      <td>[0, 0, 0.5, 0.5, 0, 0]</td>\n",
       "      <td>5.987512</td>\n",
       "    </tr>\n",
       "    <tr>\n",
       "      <th>2</th>\n",
       "      <td>169</td>\n",
       "      <td>1</td>\n",
       "      <td>[0, 1, 0, 0, 0, 0]</td>\n",
       "      <td>[0, 0, 0.5, 0.5, 0, 0]</td>\n",
       "      <td>5.987512</td>\n",
       "    </tr>\n",
       "    <tr>\n",
       "      <th>3</th>\n",
       "      <td>100</td>\n",
       "      <td>1</td>\n",
       "      <td>[0, 1, 0, 0, 0, 0]</td>\n",
       "      <td>[0, 0, 0.5, 0.5, 0, 0]</td>\n",
       "      <td>5.987512</td>\n",
       "    </tr>\n",
       "    <tr>\n",
       "      <th>4</th>\n",
       "      <td>101</td>\n",
       "      <td>2</td>\n",
       "      <td>[0, 0, 1, 0, 0, 0]</td>\n",
       "      <td>[0, 0, 0.5, 0.5, 0, 0]</td>\n",
       "      <td>0.231049</td>\n",
       "    </tr>\n",
       "    <tr>\n",
       "      <th>5</th>\n",
       "      <td>184</td>\n",
       "      <td>4</td>\n",
       "      <td>[0, 0, 0, 0, 1, 0]</td>\n",
       "      <td>[0, 0, 0.5, 0.5, 0, 0]</td>\n",
       "      <td>5.987512</td>\n",
       "    </tr>\n",
       "    <tr>\n",
       "      <th>6</th>\n",
       "      <td>156</td>\n",
       "      <td>2</td>\n",
       "      <td>[0, 0, 1, 0, 0, 0]</td>\n",
       "      <td>[0, 0, 0.5, 0.5, 0, 0]</td>\n",
       "      <td>0.231049</td>\n",
       "    </tr>\n",
       "    <tr>\n",
       "      <th>7</th>\n",
       "      <td>170</td>\n",
       "      <td>1</td>\n",
       "      <td>[0, 1, 0, 0, 0, 0]</td>\n",
       "      <td>[0, 0, 0.5, 0.5, 0, 0]</td>\n",
       "      <td>5.987512</td>\n",
       "    </tr>\n",
       "    <tr>\n",
       "      <th>8</th>\n",
       "      <td>133</td>\n",
       "      <td>2</td>\n",
       "      <td>[0, 0, 1, 0, 0, 0]</td>\n",
       "      <td>[0, 0, 0.5, 0.5, 0, 0]</td>\n",
       "      <td>0.231049</td>\n",
       "    </tr>\n",
       "    <tr>\n",
       "      <th>9</th>\n",
       "      <td>145</td>\n",
       "      <td>3</td>\n",
       "      <td>[0, 0, 0, 1, 0, 0]</td>\n",
       "      <td>[0, 0, 0.5, 0.5, 0, 0]</td>\n",
       "      <td>0.231049</td>\n",
       "    </tr>\n",
       "    <tr>\n",
       "      <th>10</th>\n",
       "      <td>124</td>\n",
       "      <td>3</td>\n",
       "      <td>[0, 0, 0, 1, 0, 0]</td>\n",
       "      <td>[0, 0, 0.5, 0.5, 0, 0]</td>\n",
       "      <td>0.231049</td>\n",
       "    </tr>\n",
       "  </tbody>\n",
       "</table>\n",
       "</div>"
      ],
      "text/plain": [
       "    mrn  los             los_hot           predicted_los  log_loss\n",
       "0   182    3  [0, 0, 0, 1, 0, 0]  [0, 0, 0.5, 0.5, 0, 0]  0.231049\n",
       "1   177    1  [0, 1, 0, 0, 0, 0]  [0, 0, 0.5, 0.5, 0, 0]  5.987512\n",
       "2   169    1  [0, 1, 0, 0, 0, 0]  [0, 0, 0.5, 0.5, 0, 0]  5.987512\n",
       "3   100    1  [0, 1, 0, 0, 0, 0]  [0, 0, 0.5, 0.5, 0, 0]  5.987512\n",
       "4   101    2  [0, 0, 1, 0, 0, 0]  [0, 0, 0.5, 0.5, 0, 0]  0.231049\n",
       "5   184    4  [0, 0, 0, 0, 1, 0]  [0, 0, 0.5, 0.5, 0, 0]  5.987512\n",
       "6   156    2  [0, 0, 1, 0, 0, 0]  [0, 0, 0.5, 0.5, 0, 0]  0.231049\n",
       "7   170    1  [0, 1, 0, 0, 0, 0]  [0, 0, 0.5, 0.5, 0, 0]  5.987512\n",
       "8   133    2  [0, 0, 1, 0, 0, 0]  [0, 0, 0.5, 0.5, 0, 0]  0.231049\n",
       "9   145    3  [0, 0, 0, 1, 0, 0]  [0, 0, 0.5, 0.5, 0, 0]  0.231049\n",
       "10  124    3  [0, 0, 0, 1, 0, 0]  [0, 0, 0.5, 0.5, 0, 0]  0.231049"
      ]
     },
     "execution_count": 9,
     "metadata": {},
     "output_type": "execute_result"
    }
   ],
   "source": [
    "# evaluate these actual length of stays against our trivially simple model predictions\n",
    "ICU_discharges_this_week['los_hot'] = ICU_discharges_this_week['los'].apply(one_hot)\n",
    "ICU_discharges_this_week['predicted_los'] = [pred_on_admission]*discharges\n",
    "ICU_discharges_this_week['log_loss'] = np.vectorize(log_loss)(ICU_discharges_this_week['los_hot'],ICU_discharges_this_week['predicted_los'])\n",
    "ICU_discharges_this_week"
   ]
  },
  {
   "cell_type": "code",
   "execution_count": 10,
   "metadata": {},
   "outputs": [
    {
     "data": {
      "text/plain": [
       "2.847623029498065"
      ]
     },
     "execution_count": 10,
     "metadata": {},
     "output_type": "execute_result"
    }
   ],
   "source": [
    "# mean Log Loss\n",
    "ICU_discharges_this_week['log_loss'].mean()"
   ]
  },
  {
   "cell_type": "markdown",
   "metadata": {},
   "source": [
    "#### HyML prediction (patient-level)"
   ]
  },
  {
   "cell_type": "markdown",
   "metadata": {},
   "source": [
    "As a final step on HyML, we need to adapt out patient-level predictions to reflect that some patients have already been on ICU for some time. (So that we can feed probabilities of remaining LoS into our HyDemand model.) \n",
    "\n",
    "To make life simpler we restrict ourselves to whole numbers of days again. Let's begin by generating a random snapshot of the ward at a given time, t:"
   ]
  },
  {
   "cell_type": "code",
   "execution_count": 11,
   "metadata": {},
   "outputs": [
    {
     "data": {
      "text/html": [
       "<div>\n",
       "<style scoped>\n",
       "    .dataframe tbody tr th:only-of-type {\n",
       "        vertical-align: middle;\n",
       "    }\n",
       "\n",
       "    .dataframe tbody tr th {\n",
       "        vertical-align: top;\n",
       "    }\n",
       "\n",
       "    .dataframe thead th {\n",
       "        text-align: right;\n",
       "    }\n",
       "</style>\n",
       "<table border=\"1\" class=\"dataframe\">\n",
       "  <thead>\n",
       "    <tr style=\"text-align: right;\">\n",
       "      <th></th>\n",
       "      <th>mrn</th>\n",
       "      <th>days_since_admit</th>\n",
       "    </tr>\n",
       "  </thead>\n",
       "  <tbody>\n",
       "    <tr>\n",
       "      <th>0</th>\n",
       "      <td>127</td>\n",
       "      <td>1</td>\n",
       "    </tr>\n",
       "    <tr>\n",
       "      <th>1</th>\n",
       "      <td>116</td>\n",
       "      <td>1</td>\n",
       "    </tr>\n",
       "    <tr>\n",
       "      <th>2</th>\n",
       "      <td>176</td>\n",
       "      <td>1</td>\n",
       "    </tr>\n",
       "    <tr>\n",
       "      <th>3</th>\n",
       "      <td>194</td>\n",
       "      <td>0</td>\n",
       "    </tr>\n",
       "    <tr>\n",
       "      <th>4</th>\n",
       "      <td>166</td>\n",
       "      <td>1</td>\n",
       "    </tr>\n",
       "    <tr>\n",
       "      <th>5</th>\n",
       "      <td>160</td>\n",
       "      <td>0</td>\n",
       "    </tr>\n",
       "    <tr>\n",
       "      <th>6</th>\n",
       "      <td>108</td>\n",
       "      <td>0</td>\n",
       "    </tr>\n",
       "    <tr>\n",
       "      <th>7</th>\n",
       "      <td>143</td>\n",
       "      <td>1</td>\n",
       "    </tr>\n",
       "  </tbody>\n",
       "</table>\n",
       "</div>"
      ],
      "text/plain": [
       "   mrn  days_since_admit\n",
       "0  127                 1\n",
       "1  116                 1\n",
       "2  176                 1\n",
       "3  194                 0\n",
       "4  166                 1\n",
       "5  160                 0\n",
       "6  108                 0\n",
       "7  143                 1"
      ]
     },
     "execution_count": 11,
     "metadata": {},
     "output_type": "execute_result"
    }
   ],
   "source": [
    "# create something that looks like a list of mrns\n",
    "in_ICU_at_t = pd.DataFrame(columns=['mrn','days_since_admit'])\n",
    "in_ICU_at_t['mrn'] = pd.Series(random.sample(range(100,200), 8))\n",
    "\n",
    "# with days already spent on ICU as random integers between 0 and 4\n",
    "in_ICU_at_t['days_since_admit'] = np.random.randint(0,4,size=(8))\n",
    "in_ICU_at_t"
   ]
  },
  {
   "cell_type": "markdown",
   "metadata": {},
   "source": [
    "From this starting point, we can generate patient-level predictions of LoS at time t. In tkutils2, I define a straightforward function that shifts across the LoS prediction on admission to reflect the number of days already spent on the unit. "
   ]
  },
  {
   "cell_type": "code",
   "execution_count": 12,
   "metadata": {},
   "outputs": [
    {
     "data": {
      "text/html": [
       "<div>\n",
       "<style scoped>\n",
       "    .dataframe tbody tr th:only-of-type {\n",
       "        vertical-align: middle;\n",
       "    }\n",
       "\n",
       "    .dataframe tbody tr th {\n",
       "        vertical-align: top;\n",
       "    }\n",
       "\n",
       "    .dataframe thead th {\n",
       "        text-align: right;\n",
       "    }\n",
       "</style>\n",
       "<table border=\"1\" class=\"dataframe\">\n",
       "  <thead>\n",
       "    <tr style=\"text-align: right;\">\n",
       "      <th></th>\n",
       "      <th>mrn</th>\n",
       "      <th>days_since_admit</th>\n",
       "      <th>patient-level prediction</th>\n",
       "    </tr>\n",
       "  </thead>\n",
       "  <tbody>\n",
       "    <tr>\n",
       "      <th>0</th>\n",
       "      <td>127</td>\n",
       "      <td>1</td>\n",
       "      <td>[0.0, 0.5, 0.5, 0.0, 0.0, 0.0]</td>\n",
       "    </tr>\n",
       "    <tr>\n",
       "      <th>1</th>\n",
       "      <td>116</td>\n",
       "      <td>1</td>\n",
       "      <td>[0.0, 0.5, 0.5, 0.0, 0.0, 0.0]</td>\n",
       "    </tr>\n",
       "    <tr>\n",
       "      <th>2</th>\n",
       "      <td>176</td>\n",
       "      <td>1</td>\n",
       "      <td>[0.0, 0.5, 0.5, 0.0, 0.0, 0.0]</td>\n",
       "    </tr>\n",
       "    <tr>\n",
       "      <th>3</th>\n",
       "      <td>194</td>\n",
       "      <td>0</td>\n",
       "      <td>[0.0, 0.0, 0.5, 0.5, 0.0, 0.0]</td>\n",
       "    </tr>\n",
       "    <tr>\n",
       "      <th>4</th>\n",
       "      <td>166</td>\n",
       "      <td>1</td>\n",
       "      <td>[0.0, 0.5, 0.5, 0.0, 0.0, 0.0]</td>\n",
       "    </tr>\n",
       "    <tr>\n",
       "      <th>5</th>\n",
       "      <td>160</td>\n",
       "      <td>0</td>\n",
       "      <td>[0.0, 0.0, 0.5, 0.5, 0.0, 0.0]</td>\n",
       "    </tr>\n",
       "    <tr>\n",
       "      <th>6</th>\n",
       "      <td>108</td>\n",
       "      <td>0</td>\n",
       "      <td>[0.0, 0.0, 0.5, 0.5, 0.0, 0.0]</td>\n",
       "    </tr>\n",
       "    <tr>\n",
       "      <th>7</th>\n",
       "      <td>143</td>\n",
       "      <td>1</td>\n",
       "      <td>[0.0, 0.5, 0.5, 0.0, 0.0, 0.0]</td>\n",
       "    </tr>\n",
       "  </tbody>\n",
       "</table>\n",
       "</div>"
      ],
      "text/plain": [
       "   mrn  days_since_admit        patient-level prediction\n",
       "0  127                 1  [0.0, 0.5, 0.5, 0.0, 0.0, 0.0]\n",
       "1  116                 1  [0.0, 0.5, 0.5, 0.0, 0.0, 0.0]\n",
       "2  176                 1  [0.0, 0.5, 0.5, 0.0, 0.0, 0.0]\n",
       "3  194                 0  [0.0, 0.0, 0.5, 0.5, 0.0, 0.0]\n",
       "4  166                 1  [0.0, 0.5, 0.5, 0.0, 0.0, 0.0]\n",
       "5  160                 0  [0.0, 0.0, 0.5, 0.5, 0.0, 0.0]\n",
       "6  108                 0  [0.0, 0.0, 0.5, 0.5, 0.0, 0.0]\n",
       "7  143                 1  [0.0, 0.5, 0.5, 0.0, 0.0, 0.0]"
      ]
     },
     "execution_count": 12,
     "metadata": {},
     "output_type": "execute_result"
    }
   ],
   "source": [
    "# effectively, pred_at_t is a simple dynamic LoS model that takes time already spent on ICU as a lone feature.\n",
    "# inspect code by running ??pred_at_t_ in a separate cell\n",
    "pred_at_t = lambda x: pred_at_t_(x, in_ICU_at_t)\n",
    "in_ICU_at_t['patient-level prediction']=in_ICU_at_t['mrn'].apply(pred_at_t)\n",
    "in_ICU_at_t"
   ]
  },
  {
   "cell_type": "code",
   "execution_count": 13,
   "metadata": {},
   "outputs": [
    {
     "data": {
      "text/html": [
       "<div>\n",
       "<style scoped>\n",
       "    .dataframe tbody tr th:only-of-type {\n",
       "        vertical-align: middle;\n",
       "    }\n",
       "\n",
       "    .dataframe tbody tr th {\n",
       "        vertical-align: top;\n",
       "    }\n",
       "\n",
       "    .dataframe thead th {\n",
       "        text-align: right;\n",
       "    }\n",
       "</style>\n",
       "<table border=\"1\" class=\"dataframe\">\n",
       "  <thead>\n",
       "    <tr style=\"text-align: right;\">\n",
       "      <th></th>\n",
       "      <th>0-1 days</th>\n",
       "      <th>1-2 days</th>\n",
       "      <th>2-3 days</th>\n",
       "      <th>3-4 days</th>\n",
       "      <th>4-5 days</th>\n",
       "      <th>5+ days</th>\n",
       "    </tr>\n",
       "  </thead>\n",
       "  <tbody>\n",
       "    <tr>\n",
       "      <th>0</th>\n",
       "      <td>0.0</td>\n",
       "      <td>0.5</td>\n",
       "      <td>0.5</td>\n",
       "      <td>0.0</td>\n",
       "      <td>0.0</td>\n",
       "      <td>0.0</td>\n",
       "    </tr>\n",
       "  </tbody>\n",
       "</table>\n",
       "</div>"
      ],
      "text/plain": [
       "   0-1 days  1-2 days  2-3 days  3-4 days  4-5 days  5+ days\n",
       "0       0.0       0.5       0.5       0.0       0.0      0.0"
      ]
     },
     "execution_count": 13,
     "metadata": {},
     "output_type": "execute_result"
    }
   ],
   "source": [
    "# where the patient level predictions correspond to the time-windows above, but for remaining length of stay, cf.\n",
    "pd.DataFrame(in_ICU_at_t.iloc[0]['patient-level prediction'],index=time_windows).T"
   ]
  },
  {
   "cell_type": "markdown",
   "metadata": {},
   "source": [
    "## HyDemand Prediction & Evaluation"
   ]
  },
  {
   "cell_type": "markdown",
   "metadata": {},
   "source": [
    "#### HyDemand Prediction (aggregate)"
   ]
  },
  {
   "cell_type": "markdown",
   "metadata": {},
   "source": [
    "Okay.. so from the previous section, we have patient-level predictions of remaining LoS for all the patient on ICU at t. We now want to use Martin's equations to forecast aggregate demand.\n",
    "\n",
    "In particular, here we try to predict 'of the 8 patients currently on the unit, how many will still be on the unit in two days time?'"
   ]
  },
  {
   "cell_type": "code",
   "execution_count": 14,
   "metadata": {},
   "outputs": [
    {
     "data": {
      "text/latex": [
       "$\\displaystyle \\left(r_{0} s - r_{0} + 1\\right) \\left(r_{1} s - r_{1} + 1\\right) \\left(r_{2} s - r_{2} + 1\\right) \\left(r_{3} s - r_{3} + 1\\right) \\left(r_{4} s - r_{4} + 1\\right) \\left(r_{5} s - r_{5} + 1\\right) \\left(r_{6} s - r_{6} + 1\\right) \\left(r_{7} s - r_{7} + 1\\right)$"
      ],
      "text/plain": [
       "(r0*s - r0 + 1)*(r1*s - r1 + 1)*(r2*s - r2 + 1)*(r3*s - r3 + 1)*(r4*s - r4 + 1)*(r5*s - r5 + 1)*(r6*s - r6 + 1)*(r7*s - r7 + 1)"
      ]
     },
     "execution_count": 14,
     "metadata": {},
     "output_type": "execute_result"
    }
   ],
   "source": [
    "# my approach has been to us sympy to build up the expression we need from Martin's paper\n",
    "# the code for this is in tk_utils2.py\n",
    "expression = build_expression()\n",
    "expression"
   ]
  },
  {
   "cell_type": "code",
   "execution_count": 15,
   "metadata": {},
   "outputs": [],
   "source": [
    "# to reach the probabilities of different numbers of beds being optimised we will need to\\\n",
    "# calculate the coefficients of different powers of s in the expression above\n",
    "def return_coeff(i): return sym.expand(expression).coeff(s,i)\n",
    "# return_coeff(2)"
   ]
  },
  {
   "cell_type": "markdown",
   "metadata": {},
   "source": [
    "First let's add a column of patient-level predictions for whether that patient will stay for longer than 2 further days:"
   ]
  },
  {
   "cell_type": "code",
   "execution_count": 16,
   "metadata": {},
   "outputs": [
    {
     "data": {
      "text/html": [
       "<div>\n",
       "<style scoped>\n",
       "    .dataframe tbody tr th:only-of-type {\n",
       "        vertical-align: middle;\n",
       "    }\n",
       "\n",
       "    .dataframe tbody tr th {\n",
       "        vertical-align: top;\n",
       "    }\n",
       "\n",
       "    .dataframe thead th {\n",
       "        text-align: right;\n",
       "    }\n",
       "</style>\n",
       "<table border=\"1\" class=\"dataframe\">\n",
       "  <thead>\n",
       "    <tr style=\"text-align: right;\">\n",
       "      <th></th>\n",
       "      <th>mrn</th>\n",
       "      <th>days_since_admit</th>\n",
       "      <th>patient-level prediction</th>\n",
       "      <th>prob &gt;2 days stay</th>\n",
       "    </tr>\n",
       "  </thead>\n",
       "  <tbody>\n",
       "    <tr>\n",
       "      <th>0</th>\n",
       "      <td>127</td>\n",
       "      <td>1</td>\n",
       "      <td>[0.0, 0.5, 0.5, 0.0, 0.0, 0.0]</td>\n",
       "      <td>0.5</td>\n",
       "    </tr>\n",
       "    <tr>\n",
       "      <th>1</th>\n",
       "      <td>116</td>\n",
       "      <td>1</td>\n",
       "      <td>[0.0, 0.5, 0.5, 0.0, 0.0, 0.0]</td>\n",
       "      <td>0.5</td>\n",
       "    </tr>\n",
       "    <tr>\n",
       "      <th>2</th>\n",
       "      <td>176</td>\n",
       "      <td>1</td>\n",
       "      <td>[0.0, 0.5, 0.5, 0.0, 0.0, 0.0]</td>\n",
       "      <td>0.5</td>\n",
       "    </tr>\n",
       "    <tr>\n",
       "      <th>3</th>\n",
       "      <td>194</td>\n",
       "      <td>0</td>\n",
       "      <td>[0.0, 0.0, 0.5, 0.5, 0.0, 0.0]</td>\n",
       "      <td>1.0</td>\n",
       "    </tr>\n",
       "    <tr>\n",
       "      <th>4</th>\n",
       "      <td>166</td>\n",
       "      <td>1</td>\n",
       "      <td>[0.0, 0.5, 0.5, 0.0, 0.0, 0.0]</td>\n",
       "      <td>0.5</td>\n",
       "    </tr>\n",
       "    <tr>\n",
       "      <th>5</th>\n",
       "      <td>160</td>\n",
       "      <td>0</td>\n",
       "      <td>[0.0, 0.0, 0.5, 0.5, 0.0, 0.0]</td>\n",
       "      <td>1.0</td>\n",
       "    </tr>\n",
       "    <tr>\n",
       "      <th>6</th>\n",
       "      <td>108</td>\n",
       "      <td>0</td>\n",
       "      <td>[0.0, 0.0, 0.5, 0.5, 0.0, 0.0]</td>\n",
       "      <td>1.0</td>\n",
       "    </tr>\n",
       "    <tr>\n",
       "      <th>7</th>\n",
       "      <td>143</td>\n",
       "      <td>1</td>\n",
       "      <td>[0.0, 0.5, 0.5, 0.0, 0.0, 0.0]</td>\n",
       "      <td>0.5</td>\n",
       "    </tr>\n",
       "  </tbody>\n",
       "</table>\n",
       "</div>"
      ],
      "text/plain": [
       "   mrn  days_since_admit        patient-level prediction  prob >2 days stay\n",
       "0  127                 1  [0.0, 0.5, 0.5, 0.0, 0.0, 0.0]                0.5\n",
       "1  116                 1  [0.0, 0.5, 0.5, 0.0, 0.0, 0.0]                0.5\n",
       "2  176                 1  [0.0, 0.5, 0.5, 0.0, 0.0, 0.0]                0.5\n",
       "3  194                 0  [0.0, 0.0, 0.5, 0.5, 0.0, 0.0]                1.0\n",
       "4  166                 1  [0.0, 0.5, 0.5, 0.0, 0.0, 0.0]                0.5\n",
       "5  160                 0  [0.0, 0.0, 0.5, 0.5, 0.0, 0.0]                1.0\n",
       "6  108                 0  [0.0, 0.0, 0.5, 0.5, 0.0, 0.0]                1.0\n",
       "7  143                 1  [0.0, 0.5, 0.5, 0.0, 0.0, 0.0]                0.5"
      ]
     },
     "execution_count": 16,
     "metadata": {},
     "output_type": "execute_result"
    }
   ],
   "source": [
    "in_ICU_at_t['prob >2 days stay'] = in_ICU_at_t['patient-level prediction'].apply(lambda probs: sum(probs[2:]))\n",
    "in_ICU_at_t"
   ]
  },
  {
   "cell_type": "markdown",
   "metadata": {},
   "source": [
    "We then subsitute these probabilities into r0 through r7 in our expression above:"
   ]
  },
  {
   "cell_type": "code",
   "execution_count": 17,
   "metadata": {},
   "outputs": [
    {
     "data": {
      "text/plain": [
       "<matplotlib.axes._subplots.AxesSubplot at 0x7f9d734298d0>"
      ]
     },
     "execution_count": 17,
     "metadata": {},
     "output_type": "execute_result"
    },
    {
     "data": {
      "image/png": "[encoded data removed]",
      "text/plain": [
       "<Figure size 432x288 with 1 Axes>"
      ]
     },
     "metadata": {
      "needs_background": "light"
     },
     "output_type": "display_data"
    }
   ],
   "source": [
    "# syms gives r0,r1,r2...\n",
    "substitution = dict(zip(syms,in_ICU_at_t['prob >2 days stay']))\n",
    "\n",
    "# using our dictionary 'substitution' above, we return the co-efficients of different powers of s\\\n",
    "# and append them to a list\n",
    "aggregate_predictions = []\n",
    "for i in range(8):\n",
    "    aggregate_predictions.append([i,float(return_coeff(i).subs(substitution))])\n",
    "\n",
    "# plotting the results \n",
    "aggregate_predictions_df = pd.DataFrame(aggregate_predictions, columns=['no. of occupied beds at day 2','probability'])\n",
    "sns.barplot(data=aggregate_predictions_df, x='no. of occupied beds at day 2',y='probability', color=\"skyblue\")"
   ]
  },
  {
   "cell_type": "markdown",
   "metadata": {},
   "source": [
    "#### Evaluating HyDemand (aggregate)"
   ]
  },
  {
   "cell_type": "markdown",
   "metadata": {},
   "source": [
    "Finally, we imagine what it will look like to evaluate these HyDemand predictions:"
   ]
  },
  {
   "cell_type": "code",
   "execution_count": 18,
   "metadata": {},
   "outputs": [
    {
     "data": {
      "text/html": [
       "<div>\n",
       "<style scoped>\n",
       "    .dataframe tbody tr th:only-of-type {\n",
       "        vertical-align: middle;\n",
       "    }\n",
       "\n",
       "    .dataframe tbody tr th {\n",
       "        vertical-align: top;\n",
       "    }\n",
       "\n",
       "    .dataframe thead th {\n",
       "        text-align: right;\n",
       "    }\n",
       "</style>\n",
       "<table border=\"1\" class=\"dataframe\">\n",
       "  <thead>\n",
       "    <tr style=\"text-align: right;\">\n",
       "      <th></th>\n",
       "      <th>mrn</th>\n",
       "      <th>still_in</th>\n",
       "    </tr>\n",
       "  </thead>\n",
       "  <tbody>\n",
       "    <tr>\n",
       "      <th>0</th>\n",
       "      <td>127</td>\n",
       "      <td>False</td>\n",
       "    </tr>\n",
       "    <tr>\n",
       "      <th>1</th>\n",
       "      <td>116</td>\n",
       "      <td>False</td>\n",
       "    </tr>\n",
       "    <tr>\n",
       "      <th>2</th>\n",
       "      <td>176</td>\n",
       "      <td>True</td>\n",
       "    </tr>\n",
       "    <tr>\n",
       "      <th>3</th>\n",
       "      <td>194</td>\n",
       "      <td>True</td>\n",
       "    </tr>\n",
       "    <tr>\n",
       "      <th>4</th>\n",
       "      <td>166</td>\n",
       "      <td>False</td>\n",
       "    </tr>\n",
       "    <tr>\n",
       "      <th>5</th>\n",
       "      <td>160</td>\n",
       "      <td>False</td>\n",
       "    </tr>\n",
       "    <tr>\n",
       "      <th>6</th>\n",
       "      <td>108</td>\n",
       "      <td>True</td>\n",
       "    </tr>\n",
       "    <tr>\n",
       "      <th>7</th>\n",
       "      <td>143</td>\n",
       "      <td>False</td>\n",
       "    </tr>\n",
       "  </tbody>\n",
       "</table>\n",
       "</div>"
      ],
      "text/plain": [
       "   mrn  still_in\n",
       "0  127     False\n",
       "1  116     False\n",
       "2  176      True\n",
       "3  194      True\n",
       "4  166     False\n",
       "5  160     False\n",
       "6  108      True\n",
       "7  143     False"
      ]
     },
     "execution_count": 18,
     "metadata": {},
     "output_type": "execute_result"
    }
   ],
   "source": [
    "# create something that looks like the query\\ \n",
    "# 'of those patients who were on ICU at t, how many are still on 2 days later?'\n",
    "still_in_at_t_plus_2 = pd.DataFrame(columns=['mrn','still_in'])\n",
    "still_in_at_t_plus_2['mrn'] = in_ICU_at_t['mrn']\n",
    "\n",
    "# at this stage, just randomly assign true and false\n",
    "def flip(p): return False if random.random() < p else True\n",
    "still_in_at_t_plus_2['still_in'] = np.vectorize(flip)([0.5]*8)\n",
    "still_in_at_t_plus_2"
   ]
  },
  {
   "cell_type": "code",
   "execution_count": 19,
   "metadata": {},
   "outputs": [
    {
     "data": {
      "text/plain": [
       "<matplotlib.lines.Line2D at 0x7f9d734b96d8>"
      ]
     },
     "execution_count": 19,
     "metadata": {},
     "output_type": "execute_result"
    },
    {
     "data": {
      "image/png": "[encoded data removed]",
      "text/plain": [
       "<Figure size 432x288 with 1 Axes>"
      ]
     },
     "metadata": {
      "needs_background": "light"
     },
     "output_type": "display_data"
    }
   ],
   "source": [
    "# a simple plot - how did our HyDemand prediction compare to the actual no. of patients still on the unit at t+2\n",
    "number_still_in = still_in_at_t_plus_2['still_in'].sum()\n",
    "g = sns.barplot(data=aggregate_predictions_df, x='no. of occupied beds at day 2',y='probability', color=\"skyblue\")\n",
    "g.axvline(x = number_still_in, color = 'indigo', label = 'axvline - full height') "
   ]
  },
  {
   "cell_type": "code",
   "execution_count": 20,
   "metadata": {},
   "outputs": [
    {
     "data": {
      "text/html": [
       "<div>\n",
       "<style scoped>\n",
       "    .dataframe tbody tr th:only-of-type {\n",
       "        vertical-align: middle;\n",
       "    }\n",
       "\n",
       "    .dataframe tbody tr th {\n",
       "        vertical-align: top;\n",
       "    }\n",
       "\n",
       "    .dataframe thead th {\n",
       "        text-align: right;\n",
       "    }\n",
       "</style>\n",
       "<table border=\"1\" class=\"dataframe\">\n",
       "  <thead>\n",
       "    <tr style=\"text-align: right;\">\n",
       "      <th></th>\n",
       "      <th>no. of occupied beds at day 2</th>\n",
       "      <th>probability</th>\n",
       "      <th>actual</th>\n",
       "    </tr>\n",
       "  </thead>\n",
       "  <tbody>\n",
       "    <tr>\n",
       "      <th>0</th>\n",
       "      <td>0</td>\n",
       "      <td>0.00000</td>\n",
       "      <td>0.0</td>\n",
       "    </tr>\n",
       "    <tr>\n",
       "      <th>1</th>\n",
       "      <td>1</td>\n",
       "      <td>0.00000</td>\n",
       "      <td>0.0</td>\n",
       "    </tr>\n",
       "    <tr>\n",
       "      <th>2</th>\n",
       "      <td>2</td>\n",
       "      <td>0.00000</td>\n",
       "      <td>0.0</td>\n",
       "    </tr>\n",
       "    <tr>\n",
       "      <th>3</th>\n",
       "      <td>3</td>\n",
       "      <td>0.03125</td>\n",
       "      <td>1.0</td>\n",
       "    </tr>\n",
       "    <tr>\n",
       "      <th>4</th>\n",
       "      <td>4</td>\n",
       "      <td>0.15625</td>\n",
       "      <td>0.0</td>\n",
       "    </tr>\n",
       "    <tr>\n",
       "      <th>5</th>\n",
       "      <td>5</td>\n",
       "      <td>0.31250</td>\n",
       "      <td>0.0</td>\n",
       "    </tr>\n",
       "    <tr>\n",
       "      <th>6</th>\n",
       "      <td>6</td>\n",
       "      <td>0.31250</td>\n",
       "      <td>0.0</td>\n",
       "    </tr>\n",
       "    <tr>\n",
       "      <th>7</th>\n",
       "      <td>7</td>\n",
       "      <td>0.15625</td>\n",
       "      <td>0.0</td>\n",
       "    </tr>\n",
       "  </tbody>\n",
       "</table>\n",
       "</div>"
      ],
      "text/plain": [
       "   no. of occupied beds at day 2  probability  actual\n",
       "0                              0      0.00000     0.0\n",
       "1                              1      0.00000     0.0\n",
       "2                              2      0.00000     0.0\n",
       "3                              3      0.03125     1.0\n",
       "4                              4      0.15625     0.0\n",
       "5                              5      0.31250     0.0\n",
       "6                              6      0.31250     0.0\n",
       "7                              7      0.15625     0.0"
      ]
     },
     "execution_count": 20,
     "metadata": {},
     "output_type": "execute_result"
    }
   ],
   "source": [
    "# then we set up the one-hot vector to evaluate the HyDemand prediction\n",
    "def still_in_to_vector(number_still_in): return [1.0 if i==number_still_in else 0.0 for i in range(8)]\n",
    "aggregate_predictions_df['actual'] = still_in_to_vector(number_still_in)\n",
    "aggregate_predictions_df"
   ]
  },
  {
   "cell_type": "code",
   "execution_count": 21,
   "metadata": {},
   "outputs": [
    {
     "data": {
      "text/plain": [
       "0.5693651094091683"
      ]
     },
     "execution_count": 21,
     "metadata": {},
     "output_type": "execute_result"
    }
   ],
   "source": [
    "aggregate_loss = log_loss(list(aggregate_predictions_df['actual']),list(aggregate_predictions_df['probability']))\n",
    "aggregate_loss"
   ]
  },
  {
   "cell_type": "markdown",
   "metadata": {},
   "source": [
    "Suggestions for next steps...\n",
    "\n",
    "- transfer across to EMAP\n",
    "- run simulation across 30-bed ICU for indication on computation time\n",
    "- implement the agggregate demand evaluation plot from Pagel et al.\n",
    "- work up some of the over-simplifications above"
   ]
  },
  {
   "cell_type": "markdown",
   "metadata": {},
   "source": [
    " "
   ]
  },
  {
   "cell_type": "markdown",
   "metadata": {},
   "source": [
    " "
   ]
  },
  {
   "cell_type": "markdown",
   "metadata": {},
   "source": [
    " "
   ]
  },
  {
   "cell_type": "markdown",
   "metadata": {},
   "source": [
    " "
   ]
  },
  {
   "cell_type": "markdown",
   "metadata": {},
   "source": [
    " "
   ]
  },
  {
   "cell_type": "markdown",
   "metadata": {},
   "source": [
    " "
   ]
  },
  {
   "cell_type": "markdown",
   "metadata": {},
   "source": [
    " "
   ]
  },
  {
   "cell_type": "markdown",
   "metadata": {},
   "source": [
    " "
   ]
  },
  {
   "cell_type": "markdown",
   "metadata": {},
   "source": [
    " "
   ]
  },
  {
   "cell_type": "markdown",
   "metadata": {},
   "source": [
    " "
   ]
  },
  {
   "cell_type": "markdown",
   "metadata": {},
   "source": [
    " "
   ]
  },
  {
   "cell_type": "markdown",
   "metadata": {},
   "source": [
    " "
   ]
  },
  {
   "cell_type": "markdown",
   "metadata": {},
   "source": [
    " "
   ]
  }
 ],
 "metadata": {
  "kernelspec": {
   "display_name": "Python 3",
   "language": "python",
   "name": "python3"
  },
  "language_info": {
   "codemirror_mode": {
    "name": "ipython",
    "version": 3
   },
   "file_extension": ".py",
   "mimetype": "text/x-python",
   "name": "python",
   "nbconvert_exporter": "python",
   "pygments_lexer": "ipython3",
   "version": "3.7.1"
  }
 },
 "nbformat": 4,
 "nbformat_minor": 2
}
